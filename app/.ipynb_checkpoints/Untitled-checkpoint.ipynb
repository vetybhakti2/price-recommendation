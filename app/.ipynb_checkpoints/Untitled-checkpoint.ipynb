{
 "cells": [
  {
   "cell_type": "code",
   "execution_count": 1,
   "id": "529f3e89-657e-456e-b0d2-37f40b900d85",
   "metadata": {},
   "outputs": [],
   "source": [
    "import requests\n",
    "from bs4 import BeautifulSoup"
   ]
  },
  {
   "cell_type": "code",
   "execution_count": 6,
   "id": "6802a73c-16f3-433c-9992-61ef4321d943",
   "metadata": {},
   "outputs": [],
   "source": [
    "# URL to scrape\n",
    "url = \"https://shopee.co.id/\"  # Replace with a valid URL\n",
    "\n",
    "# Send a GET request to the website\n",
    "response = requests.get(url)\n",
    "\n",
    "# Check if the request was successful (status code 200)\n",
    "if response.status_code == 200:\n",
    "    # Parse the HTML content\n",
    "    soup = BeautifulSoup(response.text, 'html.parser')\n",
    "    \n",
    "    # Example: Find all product names on the page\n",
    "    product_names = soup.find_all('div', class_='mr-0.5 mb-0.5 inline-block h-sp14')  # Modify based on the site's structure\n",
    "    \n",
    "    # Extract and print product names\n",
    "    for product in product_names:\n",
    "        print(product.get_text())\n",
    "else:\n",
    "    print(\"Failed to retrieve the page.\")"
   ]
  },
  {
   "cell_type": "code",
   "execution_count": 7,
   "id": "d74fe6c2-12e7-47ad-b9a4-4eb943cee2bb",
   "metadata": {},
   "outputs": [],
   "source": [
    "import requests\n",
    "from bs4 import BeautifulSoup\n",
    "\n",
    "# URL to scrape\n",
    "url = \"https://shopee.co.id/\"  # Replace with a valid URL\n",
    "\n",
    "# Send a GET request to the website\n",
    "response = requests.get(url)\n",
    "\n",
    "# Check if the request was successful (status code 200)\n",
    "if response.status_code == 200:\n",
    "    # Parse the HTML content\n",
    "    soup = BeautifulSoup(response.text, 'html.parser')\n",
    "    \n",
    "    # Example: Find all product names on the page (replace class if needed)\n",
    "    product_names = soup.find_all('div', class_='mr-0.5 mb-0.5 inline-block h-sp1')  # Replace with the correct class\n",
    "    \n",
    "    # Extract and print product names\n",
    "    for product in product_names:\n",
    "        print(product.get_text())  # Prints the product name text\n",
    "else:\n",
    "    print(\"Failed to retrieve the page.\")"
   ]
  },
  {
   "cell_type": "code",
   "execution_count": 8,
   "id": "a582b950-e72a-453e-9b57-054a91304cae",
   "metadata": {},
   "outputs": [],
   "source": [
    "import requests\n",
    "from bs4 import BeautifulSoup\n",
    "\n",
    "# URL to scrape\n",
    "url = \"https://shopee.co.id/\"  # Replace with a valid URL\n",
    "\n",
    "# Send a GET request to the website\n",
    "response = requests.get(url)\n",
    "\n",
    "# Check if the request was successful (status code 200)\n",
    "if response.status_code == 200:\n",
    "    # Parse the HTML content\n",
    "    soup = BeautifulSoup(response.text, 'html.parser')\n",
    "    \n",
    "    # Find all product names based on the correct class\n",
    "    product_names = soup.find_all('div', class_='mb-1 line-clamp-2 break-words min-h-[2.5rem] text-sm')\n",
    "    \n",
    "    # Extract and print product names\n",
    "    for product in product_names:\n",
    "        print(product.get_text(strip=True))  # Prints the product name text\n",
    "else:\n",
    "    print(\"Failed to retrieve the page.\")"
   ]
  },
  {
   "cell_type": "code",
   "execution_count": 12,
   "id": "9fad7eca-22cc-4d05-8651-7f83058d3416",
   "metadata": {},
   "outputs": [],
   "source": [
    "import requests\n",
    "from bs4 import BeautifulSoup\n",
    "\n",
    "# URL to scrape\n",
    "url = \"https://shopee.co.id/?is_from_login=true\"  # Replace with a valid URL\n",
    "\n",
    "# Send a GET request to the website\n",
    "response = requests.get(url)\n",
    "\n",
    "# Check if the request was successful (status code 200)\n",
    "if response.status_code == 200:\n",
    "    # Parse the HTML content\n",
    "    soup = BeautifulSoup(response.text, 'html.parser')\n",
    "    \n",
    "    # Find all product names based on the correct class\n",
    "    product_names = soup.find_all('div', class_='mb-1 line-clamp-2 break-words min-h-[2.5rem] text-sm')\n",
    "    \n",
    "    # Extract and print top 10 product names\n",
    "    for product in product_names[:10]:  # Take only the first 10 items\n",
    "        print(product.get_text(strip=True))  # Prints the product name text\n",
    "else:\n",
    "    print(\"Failed to retrieve the page.\")"
   ]
  },
  {
   "cell_type": "code",
   "execution_count": 14,
   "id": "5df5193a-3ba9-45cc-bcce-23f0e5869ffb",
   "metadata": {},
   "outputs": [
    {
     "name": "stdout",
     "output_type": "stream",
     "text": [
      "Collecting selenium\n",
      "  Downloading selenium-4.28.1-py3-none-any.whl.metadata (7.1 kB)\n",
      "Requirement already satisfied: urllib3<3,>=1.26 in /Users/vetybhakti/Library/Caches/pypoetry/virtualenvs/background-removal-vZPXlYo6-py3.12/lib/python3.12/site-packages (from urllib3[socks]<3,>=1.26->selenium) (2.3.0)\n",
      "Collecting trio~=0.17 (from selenium)\n",
      "  Downloading trio-0.28.0-py3-none-any.whl.metadata (8.5 kB)\n",
      "Collecting trio-websocket~=0.9 (from selenium)\n",
      "  Downloading trio_websocket-0.11.1-py3-none-any.whl.metadata (4.7 kB)\n",
      "Requirement already satisfied: certifi>=2021.10.8 in /Users/vetybhakti/Library/Caches/pypoetry/virtualenvs/background-removal-vZPXlYo6-py3.12/lib/python3.12/site-packages (from selenium) (2025.1.31)\n",
      "Requirement already satisfied: typing_extensions~=4.9 in /Users/vetybhakti/Library/Caches/pypoetry/virtualenvs/background-removal-vZPXlYo6-py3.12/lib/python3.12/site-packages (from selenium) (4.12.2)\n",
      "Requirement already satisfied: websocket-client~=1.8 in /Users/vetybhakti/Library/Caches/pypoetry/virtualenvs/background-removal-vZPXlYo6-py3.12/lib/python3.12/site-packages (from selenium) (1.8.0)\n",
      "Requirement already satisfied: attrs>=23.2.0 in /Users/vetybhakti/Library/Caches/pypoetry/virtualenvs/background-removal-vZPXlYo6-py3.12/lib/python3.12/site-packages (from trio~=0.17->selenium) (25.1.0)\n",
      "Collecting sortedcontainers (from trio~=0.17->selenium)\n",
      "  Downloading sortedcontainers-2.4.0-py2.py3-none-any.whl.metadata (10 kB)\n",
      "Requirement already satisfied: idna in /Users/vetybhakti/Library/Caches/pypoetry/virtualenvs/background-removal-vZPXlYo6-py3.12/lib/python3.12/site-packages (from trio~=0.17->selenium) (3.10)\n",
      "Collecting outcome (from trio~=0.17->selenium)\n",
      "  Downloading outcome-1.3.0.post0-py2.py3-none-any.whl.metadata (2.6 kB)\n",
      "Requirement already satisfied: sniffio>=1.3.0 in /Users/vetybhakti/Library/Caches/pypoetry/virtualenvs/background-removal-vZPXlYo6-py3.12/lib/python3.12/site-packages (from trio~=0.17->selenium) (1.3.1)\n",
      "Collecting wsproto>=0.14 (from trio-websocket~=0.9->selenium)\n",
      "  Downloading wsproto-1.2.0-py3-none-any.whl.metadata (5.6 kB)\n",
      "Requirement already satisfied: pysocks!=1.5.7,<2.0,>=1.5.6 in /Users/vetybhakti/Library/Caches/pypoetry/virtualenvs/background-removal-vZPXlYo6-py3.12/lib/python3.12/site-packages (from urllib3[socks]<3,>=1.26->selenium) (1.7.1)\n",
      "Requirement already satisfied: h11<1,>=0.9.0 in /Users/vetybhakti/Library/Caches/pypoetry/virtualenvs/background-removal-vZPXlYo6-py3.12/lib/python3.12/site-packages (from wsproto>=0.14->trio-websocket~=0.9->selenium) (0.14.0)\n",
      "Downloading selenium-4.28.1-py3-none-any.whl (9.5 MB)\n",
      "\u001b[2K   \u001b[38;2;114;156;31m━━━━━━━━━━━━━━━━━━━━━━━━━━━━━━━━━━━━━━━━\u001b[0m \u001b[32m9.5/9.5 MB\u001b[0m \u001b[31m5.3 MB/s\u001b[0m eta \u001b[36m0:00:00\u001b[0m MB/s\u001b[0m eta \u001b[36m0:00:01\u001b[0m:01\u001b[0m\n",
      "\u001b[?25hDownloading trio-0.28.0-py3-none-any.whl (486 kB)\n",
      "Downloading trio_websocket-0.11.1-py3-none-any.whl (17 kB)\n",
      "Downloading wsproto-1.2.0-py3-none-any.whl (24 kB)\n",
      "Downloading outcome-1.3.0.post0-py2.py3-none-any.whl (10 kB)\n",
      "Downloading sortedcontainers-2.4.0-py2.py3-none-any.whl (29 kB)\n",
      "Installing collected packages: sortedcontainers, wsproto, outcome, trio, trio-websocket, selenium\n",
      "Successfully installed outcome-1.3.0.post0 selenium-4.28.1 sortedcontainers-2.4.0 trio-0.28.0 trio-websocket-0.11.1 wsproto-1.2.0\n",
      "\n",
      "\u001b[1m[\u001b[0m\u001b[34;49mnotice\u001b[0m\u001b[1;39;49m]\u001b[0m\u001b[39;49m A new release of pip is available: \u001b[0m\u001b[31;49m24.3.1\u001b[0m\u001b[39;49m -> \u001b[0m\u001b[32;49m25.0\u001b[0m\n",
      "\u001b[1m[\u001b[0m\u001b[34;49mnotice\u001b[0m\u001b[1;39;49m]\u001b[0m\u001b[39;49m To update, run: \u001b[0m\u001b[32;49mpip install --upgrade pip\u001b[0m\n",
      "Note: you may need to restart the kernel to use updated packages.\n"
     ]
    }
   ],
   "source": [
    "pip install selenium"
   ]
  },
  {
   "cell_type": "code",
   "execution_count": 16,
   "id": "39370f98-a5cd-4958-8c0c-3f3bea8d62c0",
   "metadata": {},
   "outputs": [
    {
     "name": "stdout",
     "output_type": "stream",
     "text": [
      "Collecting webdriver-manager\n",
      "  Downloading webdriver_manager-4.0.2-py2.py3-none-any.whl.metadata (12 kB)\n",
      "Requirement already satisfied: requests in /Users/vetybhakti/Library/Caches/pypoetry/virtualenvs/background-removal-vZPXlYo6-py3.12/lib/python3.12/site-packages (from webdriver-manager) (2.32.3)\n",
      "Requirement already satisfied: python-dotenv in /Users/vetybhakti/Library/Caches/pypoetry/virtualenvs/background-removal-vZPXlYo6-py3.12/lib/python3.12/site-packages (from webdriver-manager) (1.0.1)\n",
      "Requirement already satisfied: packaging in /Users/vetybhakti/Library/Caches/pypoetry/virtualenvs/background-removal-vZPXlYo6-py3.12/lib/python3.12/site-packages (from webdriver-manager) (24.2)\n",
      "Requirement already satisfied: charset-normalizer<4,>=2 in /Users/vetybhakti/Library/Caches/pypoetry/virtualenvs/background-removal-vZPXlYo6-py3.12/lib/python3.12/site-packages (from requests->webdriver-manager) (3.4.1)\n",
      "Requirement already satisfied: idna<4,>=2.5 in /Users/vetybhakti/Library/Caches/pypoetry/virtualenvs/background-removal-vZPXlYo6-py3.12/lib/python3.12/site-packages (from requests->webdriver-manager) (3.10)\n",
      "Requirement already satisfied: urllib3<3,>=1.21.1 in /Users/vetybhakti/Library/Caches/pypoetry/virtualenvs/background-removal-vZPXlYo6-py3.12/lib/python3.12/site-packages (from requests->webdriver-manager) (2.3.0)\n",
      "Requirement already satisfied: certifi>=2017.4.17 in /Users/vetybhakti/Library/Caches/pypoetry/virtualenvs/background-removal-vZPXlYo6-py3.12/lib/python3.12/site-packages (from requests->webdriver-manager) (2025.1.31)\n",
      "Downloading webdriver_manager-4.0.2-py2.py3-none-any.whl (27 kB)\n",
      "Installing collected packages: webdriver-manager\n",
      "Successfully installed webdriver-manager-4.0.2\n",
      "\n",
      "\u001b[1m[\u001b[0m\u001b[34;49mnotice\u001b[0m\u001b[1;39;49m]\u001b[0m\u001b[39;49m A new release of pip is available: \u001b[0m\u001b[31;49m24.3.1\u001b[0m\u001b[39;49m -> \u001b[0m\u001b[32;49m25.0\u001b[0m\n",
      "\u001b[1m[\u001b[0m\u001b[34;49mnotice\u001b[0m\u001b[1;39;49m]\u001b[0m\u001b[39;49m To update, run: \u001b[0m\u001b[32;49mpip install --upgrade pip\u001b[0m\n",
      "Note: you may need to restart the kernel to use updated packages.\n"
     ]
    }
   ],
   "source": [
    "pip install webdriver-manager"
   ]
  },
  {
   "cell_type": "code",
   "execution_count": 21,
   "id": "b6ff0c77-3ed7-49df-9fa1-e88d40d827c0",
   "metadata": {},
   "outputs": [
    {
     "ename": "InvalidSelectorException",
     "evalue": "Message: invalid selector: An invalid or illegal selector was specified\n  (Session info: chrome=132.0.6834.160); For documentation on this error, please visit: https://www.selenium.dev/documentation/webdriver/troubleshooting/errors#invalid-selector-exception\nStacktrace:\n0   chromedriver                        0x000000010149b0d4 cxxbridge1$str$ptr + 2600792\n1   chromedriver                        0x00000001014939f0 cxxbridge1$str$ptr + 2570356\n2   chromedriver                        0x00000001010343d8 cxxbridge1$string$len + 89376\n3   chromedriver                        0x00000001010395ec cxxbridge1$string$len + 110388\n4   chromedriver                        0x000000010103b640 cxxbridge1$string$len + 118664\n5   chromedriver                        0x000000010103b6e8 cxxbridge1$string$len + 118832\n6   chromedriver                        0x0000000101079010 cxxbridge1$string$len + 371032\n7   chromedriver                        0x00000001010b3638 cxxbridge1$string$len + 610176\n8   chromedriver                        0x000000010106d34c cxxbridge1$string$len + 322708\n9   chromedriver                        0x000000010106df94 cxxbridge1$string$len + 325852\n10  chromedriver                        0x0000000101466238 cxxbridge1$str$ptr + 2384060\n11  chromedriver                        0x0000000101469550 cxxbridge1$str$ptr + 2397140\n12  chromedriver                        0x000000010144cb9c cxxbridge1$str$ptr + 2279968\n13  chromedriver                        0x0000000101469e10 cxxbridge1$str$ptr + 2399380\n14  chromedriver                        0x000000010143e6a4 cxxbridge1$str$ptr + 2221352\n15  chromedriver                        0x00000001014847d8 cxxbridge1$str$ptr + 2508380\n16  chromedriver                        0x0000000101484954 cxxbridge1$str$ptr + 2508760\n17  chromedriver                        0x0000000101493664 cxxbridge1$str$ptr + 2569448\n18  libsystem_pthread.dylib             0x000000018fe66f94 _pthread_start + 136\n19  libsystem_pthread.dylib             0x000000018fe61d34 thread_start + 8\n",
     "output_type": "error",
     "traceback": [
      "\u001b[0;31m---------------------------------------------------------------------------\u001b[0m",
      "\u001b[0;31mInvalidSelectorException\u001b[0m                  Traceback (most recent call last)",
      "Cell \u001b[0;32mIn[21], line 18\u001b[0m\n\u001b[1;32m     15\u001b[0m time\u001b[38;5;241m.\u001b[39msleep(\u001b[38;5;241m3\u001b[39m)  \u001b[38;5;66;03m# Adjust the sleep time if necessary\u001b[39;00m\n\u001b[1;32m     17\u001b[0m \u001b[38;5;66;03m# Find all product names using a CSS selector that targets multiple classes\u001b[39;00m\n\u001b[0;32m---> 18\u001b[0m product_elements \u001b[38;5;241m=\u001b[39m \u001b[43mdriver\u001b[49m\u001b[38;5;241;43m.\u001b[39;49m\u001b[43mfind_elements\u001b[49m\u001b[43m(\u001b[49m\u001b[43mBy\u001b[49m\u001b[38;5;241;43m.\u001b[39;49m\u001b[43mCSS_SELECTOR\u001b[49m\u001b[43m,\u001b[49m\u001b[43m \u001b[49m\u001b[38;5;124;43m'\u001b[39;49m\u001b[38;5;124;43m.mb-1.line-clamp-2.break-words.min-h-[2.5rem].text-sm\u001b[39;49m\u001b[38;5;124;43m'\u001b[39;49m\u001b[43m)\u001b[49m\n\u001b[1;32m     20\u001b[0m \u001b[38;5;66;03m# Extract and print the top 10 product names\u001b[39;00m\n\u001b[1;32m     21\u001b[0m \u001b[38;5;28;01mfor\u001b[39;00m product \u001b[38;5;129;01min\u001b[39;00m product_elements[:\u001b[38;5;241m10\u001b[39m]:  \u001b[38;5;66;03m# Limit to first 10 items\u001b[39;00m\n",
      "File \u001b[0;32m~/Library/Caches/pypoetry/virtualenvs/background-removal-vZPXlYo6-py3.12/lib/python3.12/site-packages/selenium/webdriver/remote/webdriver.py:926\u001b[0m, in \u001b[0;36mWebDriver.find_elements\u001b[0;34m(self, by, value)\u001b[0m\n\u001b[1;32m    922\u001b[0m     \u001b[38;5;28;01mreturn\u001b[39;00m \u001b[38;5;28mself\u001b[39m\u001b[38;5;241m.\u001b[39mexecute_script(find_element_js, by\u001b[38;5;241m.\u001b[39mto_dict())\n\u001b[1;32m    924\u001b[0m \u001b[38;5;66;03m# Return empty list if driver returns null\u001b[39;00m\n\u001b[1;32m    925\u001b[0m \u001b[38;5;66;03m# See https://github.com/SeleniumHQ/selenium/issues/4555\u001b[39;00m\n\u001b[0;32m--> 926\u001b[0m \u001b[38;5;28;01mreturn\u001b[39;00m \u001b[38;5;28;43mself\u001b[39;49m\u001b[38;5;241;43m.\u001b[39;49m\u001b[43mexecute\u001b[49m\u001b[43m(\u001b[49m\u001b[43mCommand\u001b[49m\u001b[38;5;241;43m.\u001b[39;49m\u001b[43mFIND_ELEMENTS\u001b[49m\u001b[43m,\u001b[49m\u001b[43m \u001b[49m\u001b[43m{\u001b[49m\u001b[38;5;124;43m\"\u001b[39;49m\u001b[38;5;124;43musing\u001b[39;49m\u001b[38;5;124;43m\"\u001b[39;49m\u001b[43m:\u001b[49m\u001b[43m \u001b[49m\u001b[43mby\u001b[49m\u001b[43m,\u001b[49m\u001b[43m \u001b[49m\u001b[38;5;124;43m\"\u001b[39;49m\u001b[38;5;124;43mvalue\u001b[39;49m\u001b[38;5;124;43m\"\u001b[39;49m\u001b[43m:\u001b[49m\u001b[43m \u001b[49m\u001b[43mvalue\u001b[49m\u001b[43m}\u001b[49m\u001b[43m)\u001b[49m[\u001b[38;5;124m\"\u001b[39m\u001b[38;5;124mvalue\u001b[39m\u001b[38;5;124m\"\u001b[39m] \u001b[38;5;129;01mor\u001b[39;00m []\n",
      "File \u001b[0;32m~/Library/Caches/pypoetry/virtualenvs/background-removal-vZPXlYo6-py3.12/lib/python3.12/site-packages/selenium/webdriver/remote/webdriver.py:429\u001b[0m, in \u001b[0;36mWebDriver.execute\u001b[0;34m(self, driver_command, params)\u001b[0m\n\u001b[1;32m    427\u001b[0m response \u001b[38;5;241m=\u001b[39m \u001b[38;5;28mself\u001b[39m\u001b[38;5;241m.\u001b[39mcommand_executor\u001b[38;5;241m.\u001b[39mexecute(driver_command, params)\n\u001b[1;32m    428\u001b[0m \u001b[38;5;28;01mif\u001b[39;00m response:\n\u001b[0;32m--> 429\u001b[0m     \u001b[38;5;28;43mself\u001b[39;49m\u001b[38;5;241;43m.\u001b[39;49m\u001b[43merror_handler\u001b[49m\u001b[38;5;241;43m.\u001b[39;49m\u001b[43mcheck_response\u001b[49m\u001b[43m(\u001b[49m\u001b[43mresponse\u001b[49m\u001b[43m)\u001b[49m\n\u001b[1;32m    430\u001b[0m     response[\u001b[38;5;124m\"\u001b[39m\u001b[38;5;124mvalue\u001b[39m\u001b[38;5;124m\"\u001b[39m] \u001b[38;5;241m=\u001b[39m \u001b[38;5;28mself\u001b[39m\u001b[38;5;241m.\u001b[39m_unwrap_value(response\u001b[38;5;241m.\u001b[39mget(\u001b[38;5;124m\"\u001b[39m\u001b[38;5;124mvalue\u001b[39m\u001b[38;5;124m\"\u001b[39m, \u001b[38;5;28;01mNone\u001b[39;00m))\n\u001b[1;32m    431\u001b[0m     \u001b[38;5;28;01mreturn\u001b[39;00m response\n",
      "File \u001b[0;32m~/Library/Caches/pypoetry/virtualenvs/background-removal-vZPXlYo6-py3.12/lib/python3.12/site-packages/selenium/webdriver/remote/errorhandler.py:232\u001b[0m, in \u001b[0;36mErrorHandler.check_response\u001b[0;34m(self, response)\u001b[0m\n\u001b[1;32m    230\u001b[0m         alert_text \u001b[38;5;241m=\u001b[39m value[\u001b[38;5;124m\"\u001b[39m\u001b[38;5;124malert\u001b[39m\u001b[38;5;124m\"\u001b[39m]\u001b[38;5;241m.\u001b[39mget(\u001b[38;5;124m\"\u001b[39m\u001b[38;5;124mtext\u001b[39m\u001b[38;5;124m\"\u001b[39m)\n\u001b[1;32m    231\u001b[0m     \u001b[38;5;28;01mraise\u001b[39;00m exception_class(message, screen, stacktrace, alert_text)  \u001b[38;5;66;03m# type: ignore[call-arg]  # mypy is not smart enough here\u001b[39;00m\n\u001b[0;32m--> 232\u001b[0m \u001b[38;5;28;01mraise\u001b[39;00m exception_class(message, screen, stacktrace)\n",
      "\u001b[0;31mInvalidSelectorException\u001b[0m: Message: invalid selector: An invalid or illegal selector was specified\n  (Session info: chrome=132.0.6834.160); For documentation on this error, please visit: https://www.selenium.dev/documentation/webdriver/troubleshooting/errors#invalid-selector-exception\nStacktrace:\n0   chromedriver                        0x000000010149b0d4 cxxbridge1$str$ptr + 2600792\n1   chromedriver                        0x00000001014939f0 cxxbridge1$str$ptr + 2570356\n2   chromedriver                        0x00000001010343d8 cxxbridge1$string$len + 89376\n3   chromedriver                        0x00000001010395ec cxxbridge1$string$len + 110388\n4   chromedriver                        0x000000010103b640 cxxbridge1$string$len + 118664\n5   chromedriver                        0x000000010103b6e8 cxxbridge1$string$len + 118832\n6   chromedriver                        0x0000000101079010 cxxbridge1$string$len + 371032\n7   chromedriver                        0x00000001010b3638 cxxbridge1$string$len + 610176\n8   chromedriver                        0x000000010106d34c cxxbridge1$string$len + 322708\n9   chromedriver                        0x000000010106df94 cxxbridge1$string$len + 325852\n10  chromedriver                        0x0000000101466238 cxxbridge1$str$ptr + 2384060\n11  chromedriver                        0x0000000101469550 cxxbridge1$str$ptr + 2397140\n12  chromedriver                        0x000000010144cb9c cxxbridge1$str$ptr + 2279968\n13  chromedriver                        0x0000000101469e10 cxxbridge1$str$ptr + 2399380\n14  chromedriver                        0x000000010143e6a4 cxxbridge1$str$ptr + 2221352\n15  chromedriver                        0x00000001014847d8 cxxbridge1$str$ptr + 2508380\n16  chromedriver                        0x0000000101484954 cxxbridge1$str$ptr + 2508760\n17  chromedriver                        0x0000000101493664 cxxbridge1$str$ptr + 2569448\n18  libsystem_pthread.dylib             0x000000018fe66f94 _pthread_start + 136\n19  libsystem_pthread.dylib             0x000000018fe61d34 thread_start + 8\n"
     ]
    }
   ],
   "source": [
    "from selenium import webdriver\n",
    "from selenium.webdriver.common.by import By\n",
    "from selenium.webdriver.chrome.service import Service\n",
    "from webdriver_manager.chrome import ChromeDriverManager\n",
    "import time\n",
    "\n",
    "# Setup Selenium WebDriver\n",
    "driver = webdriver.Chrome(service=Service(ChromeDriverManager().install()))\n",
    "\n",
    "# Open the URL\n",
    "url = \"https://shopee.co.id/\"\n",
    "driver.get(url)\n",
    "\n",
    "# Wait for the page to load\n",
    "time.sleep(3)  # Adjust the sleep time if necessary\n",
    "\n",
    "# Find all product names using a CSS selector that targets multiple classes\n",
    "product_elements = driver.find_elements(By.CSS_SELECTOR, 'mr-0.5 mb-0.5 inline-block h-sp14'\n",
    "')\n",
    "\n",
    "# Extract and print the top 10 product names\n",
    "for product in product_elements[:10]:  # Limit to first 10 items\n",
    "    print(product.text)\n",
    "\n",
    "# Close the driver\n",
    "driver.quit()"
   ]
  }
 ],
 "metadata": {
  "kernelspec": {
   "display_name": "Python 3 (ipykernel)",
   "language": "python",
   "name": "python3"
  },
  "language_info": {
   "codemirror_mode": {
    "name": "ipython",
    "version": 3
   },
   "file_extension": ".py",
   "mimetype": "text/x-python",
   "name": "python",
   "nbconvert_exporter": "python",
   "pygments_lexer": "ipython3",
   "version": "3.12.4"
  }
 },
 "nbformat": 4,
 "nbformat_minor": 5
}
